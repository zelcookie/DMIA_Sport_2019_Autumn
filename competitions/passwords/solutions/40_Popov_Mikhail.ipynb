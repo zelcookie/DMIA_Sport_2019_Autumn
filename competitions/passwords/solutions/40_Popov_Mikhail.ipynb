{
 "cells": [
  {
   "cell_type": "code",
   "execution_count": 1,
   "metadata": {},
   "outputs": [],
   "source": [
    "import pandas as pd\n",
    "import numpy as np"
   ]
  },
  {
   "cell_type": "code",
   "execution_count": 2,
   "metadata": {},
   "outputs": [
    {
     "name": "stdout",
     "output_type": "stream",
     "text": [
      "gargleblaster: 2.931209\n",
      "tripleee: 2.405639\n",
      "magnus: 2.584963\n",
      "lkjasdlk: 2.500000\n",
      "aaaaaaaa: 0.000000\n",
      "sadfasdfasdf: 2.000000\n",
      "7&wS/p(: 2.807355\n"
     ]
    }
   ],
   "source": [
    "import math, string, sys, fileinput\n",
    "\n",
    "def range_bytes (): return range(256)\n",
    "def range_printable(): return (ord(c) for c in string.printable)\n",
    "def H(data, iterator=range_bytes):\n",
    "    if not data:\n",
    "        return 0\n",
    "    entropy = 0\n",
    "    for x in iterator():\n",
    "        p_x = float(data.count(chr(x)))/len(data)\n",
    "        if p_x > 0:\n",
    "            entropy += - p_x*math.log(p_x, 2)\n",
    "    return entropy\n",
    "\n",
    "\n",
    "\n",
    "for str_ in ['gargleblaster', 'tripleee', 'magnus', 'lkjasdlk',\n",
    "               'aaaaaaaa', 'sadfasdfasdf', '7&wS/p(']:\n",
    "    print (\"%s: %f\" % (str_, H(str_, range_printable)))\n",
    "\n"
   ]
  },
  {
   "cell_type": "code",
   "execution_count": 3,
   "metadata": {},
   "outputs": [],
   "source": [
    "df_train = pd.read_csv('train.csv').dropna()"
   ]
  },
  {
   "cell_type": "code",
   "execution_count": 4,
   "metadata": {},
   "outputs": [
    {
     "data": {
      "text/html": [
       "<div>\n",
       "<style scoped>\n",
       "    .dataframe tbody tr th:only-of-type {\n",
       "        vertical-align: middle;\n",
       "    }\n",
       "\n",
       "    .dataframe tbody tr th {\n",
       "        vertical-align: top;\n",
       "    }\n",
       "\n",
       "    .dataframe thead th {\n",
       "        text-align: right;\n",
       "    }\n",
       "</style>\n",
       "<table border=\"1\" class=\"dataframe\">\n",
       "  <thead>\n",
       "    <tr style=\"text-align: right;\">\n",
       "      <th></th>\n",
       "      <th>Password</th>\n",
       "      <th>Times</th>\n",
       "    </tr>\n",
       "  </thead>\n",
       "  <tbody>\n",
       "    <tr>\n",
       "      <th>0</th>\n",
       "      <td>631XniVx2lS5I</td>\n",
       "      <td>2</td>\n",
       "    </tr>\n",
       "    <tr>\n",
       "      <th>1</th>\n",
       "      <td>LEGIT747</td>\n",
       "      <td>1</td>\n",
       "    </tr>\n",
       "    <tr>\n",
       "      <th>2</th>\n",
       "      <td>742364es</td>\n",
       "      <td>1</td>\n",
       "    </tr>\n",
       "    <tr>\n",
       "      <th>3</th>\n",
       "      <td>3846696477</td>\n",
       "      <td>1</td>\n",
       "    </tr>\n",
       "    <tr>\n",
       "      <th>4</th>\n",
       "      <td>laurahop</td>\n",
       "      <td>2</td>\n",
       "    </tr>\n",
       "  </tbody>\n",
       "</table>\n",
       "</div>"
      ],
      "text/plain": [
       "        Password  Times\n",
       "0  631XniVx2lS5I      2\n",
       "1       LEGIT747      1\n",
       "2       742364es      1\n",
       "3     3846696477      1\n",
       "4       laurahop      2"
      ]
     },
     "execution_count": 4,
     "metadata": {},
     "output_type": "execute_result"
    }
   ],
   "source": [
    "df_train.head()"
   ]
  },
  {
   "cell_type": "code",
   "execution_count": 5,
   "metadata": {},
   "outputs": [
    {
     "data": {
      "text/plain": [
       "1     85.442855\n",
       "2      7.448042\n",
       "3      2.323525\n",
       "4      1.149080\n",
       "5      0.672119\n",
       "6      0.448682\n",
       "7      0.328436\n",
       "8      0.254535\n",
       "9      0.198362\n",
       "10     0.163194\n",
       "11     0.133590\n",
       "12     0.116055\n",
       "13     0.100566\n",
       "14     0.085873\n",
       "15     0.074937\n",
       "16     0.065013\n",
       "17     0.061496\n",
       "18     0.053523\n",
       "19     0.048224\n",
       "20     0.045454\n",
       "Name: Times, dtype: float64"
      ]
     },
     "execution_count": 5,
     "metadata": {},
     "output_type": "execute_result"
    }
   ],
   "source": [
    "df_train['Times'].value_counts(normalize=True).head(20)*100"
   ]
  },
  {
   "cell_type": "code",
   "execution_count": 6,
   "metadata": {},
   "outputs": [],
   "source": [
    "df_test = pd.read_csv('Xtest.csv')"
   ]
  },
  {
   "cell_type": "code",
   "execution_count": 7,
   "metadata": {},
   "outputs": [
    {
     "data": {
      "text/html": [
       "<div>\n",
       "<style scoped>\n",
       "    .dataframe tbody tr th:only-of-type {\n",
       "        vertical-align: middle;\n",
       "    }\n",
       "\n",
       "    .dataframe tbody tr th {\n",
       "        vertical-align: top;\n",
       "    }\n",
       "\n",
       "    .dataframe thead th {\n",
       "        text-align: right;\n",
       "    }\n",
       "</style>\n",
       "<table border=\"1\" class=\"dataframe\">\n",
       "  <thead>\n",
       "    <tr style=\"text-align: right;\">\n",
       "      <th></th>\n",
       "      <th>Id</th>\n",
       "      <th>Password</th>\n",
       "    </tr>\n",
       "  </thead>\n",
       "  <tbody>\n",
       "    <tr>\n",
       "      <th>0</th>\n",
       "      <td>0</td>\n",
       "      <td>ThaisCunha</td>\n",
       "    </tr>\n",
       "    <tr>\n",
       "      <th>1</th>\n",
       "      <td>1</td>\n",
       "      <td>697775113</td>\n",
       "    </tr>\n",
       "    <tr>\n",
       "      <th>2</th>\n",
       "      <td>2</td>\n",
       "      <td>922a16922a</td>\n",
       "    </tr>\n",
       "    <tr>\n",
       "      <th>3</th>\n",
       "      <td>3</td>\n",
       "      <td>andy74</td>\n",
       "    </tr>\n",
       "    <tr>\n",
       "      <th>4</th>\n",
       "      <td>4</td>\n",
       "      <td>joemack</td>\n",
       "    </tr>\n",
       "  </tbody>\n",
       "</table>\n",
       "</div>"
      ],
      "text/plain": [
       "   Id    Password\n",
       "0   0  ThaisCunha\n",
       "1   1   697775113\n",
       "2   2  922a16922a\n",
       "3   3      andy74\n",
       "4   4     joemack"
      ]
     },
     "execution_count": 7,
     "metadata": {},
     "output_type": "execute_result"
    }
   ],
   "source": [
    "df_test.head()"
   ]
  },
  {
   "cell_type": "code",
   "execution_count": 8,
   "metadata": {},
   "outputs": [],
   "source": [
    "df_train = df_train[df_train['Times']<5]\n",
    "X_test = df_test['Password']\n",
    "X_train = df_train['Password']\n",
    "y_train= df_train['Times']"
   ]
  },
  {
   "cell_type": "code",
   "execution_count": 9,
   "metadata": {},
   "outputs": [
    {
     "name": "stderr",
     "output_type": "stream",
     "text": [
      "/Users/mikhail_p/.pyenv/versions/3.6.5/lib/python3.6/site-packages/sklearn/ensemble/weight_boosting.py:29: DeprecationWarning: numpy.core.umath_tests is an internal NumPy module and should not be imported. It will be removed in a future NumPy release.\n",
      "  from numpy.core.umath_tests import inner1d\n"
     ]
    }
   ],
   "source": [
    "from sklearn.feature_extraction.text import CountVectorizer\n",
    "from sklearn.pipeline import Pipeline\n",
    "from sklearn.linear_model import LinearRegression\n",
    "from sklearn.model_selection import cross_val_predict\n",
    "from sklearn.metrics import mean_squared_log_error\n",
    "from string import punctuation\n",
    "#from catboost import CatBoostRegressor \n",
    "\n",
    "from sklearn.ensemble import RandomForestRegressor"
   ]
  },
  {
   "cell_type": "code",
   "execution_count": 10,
   "metadata": {},
   "outputs": [],
   "source": [
    "df_train['length'] = df_train['Password'].apply(lambda x: len(x))\n",
    "df_train['has_lower'] = df_train['Password'].apply(lambda x: any(char.islower() for char in x))\n",
    "df_train['has_digits'] = df_train['Password'].apply(lambda x: any(char.isdigit() for char in x))\n",
    "df_train['has_upper'] = df_train['Password'].apply(lambda x: any(char.isupper() for char in x))\n",
    "df_train['has_special'] = df_train['Password'].apply(lambda x: any(char in set(punctuation) for char in x))\n",
    "df_train['H']= df_train['Password'].apply(H)\n",
    "df_train['isalpha'] = df_train['Password'].str.isalpha()\n",
    "df_train['isdigit'] = df_train['Password'].str.isdigit()\n",
    "df_train['vowel_num'] = df_train['Password'].apply(lambda x: sum(char in 'aeiou' for char in x.lower()))\n",
    "df_train['consonant_num'] = df_train['Password'].apply(lambda x: sum(char in 'bcdfghjklmnpqrstvwxyz' for char in x.lower()))\n",
    "df_train['digit_num'] = df_train['Password'].apply(lambda x: sum(char in '1234567890' for char in x.lower()))\n",
    "df_train['vowel_percentage'] = df_train['vowel_num'] / df_train['length']\n",
    "df_train['consonant_percentage'] = df_train['consonant_num'] / df_train['length']\n",
    "df_train['letter_percentage'] = (df_train['vowel_num'] + df_train['consonant_num']) / df_train['length']\n",
    "df_train['digit_percentage'] = df_train['digit_num'] / df_train['length']\n",
    "\n"
   ]
  },
  {
   "cell_type": "code",
   "execution_count": 11,
   "metadata": {},
   "outputs": [
    {
     "data": {
      "text/plain": [
       "Index(['Password', 'Times', 'length', 'has_lower', 'has_digits', 'has_upper',\n",
       "       'has_special', 'H', 'isalpha', 'isdigit', 'vowel_num', 'consonant_num',\n",
       "       'digit_num', 'vowel_percentage', 'consonant_percentage',\n",
       "       'letter_percentage', 'digit_percentage'],\n",
       "      dtype='object')"
      ]
     },
     "execution_count": 11,
     "metadata": {},
     "output_type": "execute_result"
    }
   ],
   "source": [
    "df_train.columns"
   ]
  },
  {
   "cell_type": "code",
   "execution_count": 12,
   "metadata": {},
   "outputs": [],
   "source": [
    "X_train = df_train[['length', 'has_lower', 'has_digits', 'has_upper',\n",
    "       'has_special', 'H', 'isalpha', 'isdigit', 'vowel_num', 'consonant_num',\n",
    "       'digit_num', 'vowel_percentage', 'consonant_percentage',\n",
    "       'letter_percentage', 'digit_percentage']]"
   ]
  },
  {
   "cell_type": "code",
   "execution_count": 13,
   "metadata": {},
   "outputs": [
    {
     "name": "stderr",
     "output_type": "stream",
     "text": [
      "[Parallel(n_jobs=-1)]: Done   1 tasks      | elapsed:  1.8min\n",
      "[Parallel(n_jobs=-1)]: Done   3 out of   3 | elapsed:  1.8min remaining:    0.0s\n",
      "[Parallel(n_jobs=-1)]: Done   3 out of   3 | elapsed:  1.8min finished\n"
     ]
    }
   ],
   "source": [
    "y_pred = cross_val_predict(RandomForestRegressor(random_state=42), X_train, y_train, verbose=30,n_jobs=-1)"
   ]
  },
  {
   "cell_type": "code",
   "execution_count": 14,
   "metadata": {},
   "outputs": [
    {
     "data": {
      "text/plain": [
       "0.17177503169938305"
      ]
     },
     "execution_count": 14,
     "metadata": {},
     "output_type": "execute_result"
    }
   ],
   "source": [
    "np.sqrt(np.mean((np.log(y_pred+1) - np.log(y_train.astype(float)+1))**2))"
   ]
  },
  {
   "cell_type": "code",
   "execution_count": 15,
   "metadata": {},
   "outputs": [
    {
     "data": {
      "text/plain": [
       "RandomForestRegressor(bootstrap=True, criterion='mse', max_depth=None,\n",
       "           max_features='auto', max_leaf_nodes=None,\n",
       "           min_impurity_decrease=0.0, min_impurity_split=None,\n",
       "           min_samples_leaf=1, min_samples_split=2,\n",
       "           min_weight_fraction_leaf=0.0, n_estimators=10, n_jobs=1,\n",
       "           oob_score=False, random_state=42, verbose=0, warm_start=False)"
      ]
     },
     "execution_count": 15,
     "metadata": {},
     "output_type": "execute_result"
    }
   ],
   "source": [
    "rf = RandomForestRegressor(random_state=42)\n",
    "rf.fit(X_train, y_train)"
   ]
  },
  {
   "cell_type": "code",
   "execution_count": 16,
   "metadata": {},
   "outputs": [
    {
     "name": "stderr",
     "output_type": "stream",
     "text": [
      "/Users/mikhail_p/.pyenv/versions/3.6.5/lib/python3.6/site-packages/ipykernel_launcher.py:1: SettingWithCopyWarning: \n",
      "A value is trying to be set on a copy of a slice from a DataFrame\n",
      "\n",
      "See the caveats in the documentation: http://pandas.pydata.org/pandas-docs/stable/indexing.html#indexing-view-versus-copy\n",
      "  \"\"\"Entry point for launching an IPython kernel.\n"
     ]
    }
   ],
   "source": [
    "X_test[X_test.isnull()] = ''"
   ]
  },
  {
   "cell_type": "code",
   "execution_count": 17,
   "metadata": {},
   "outputs": [],
   "source": [
    "df_test['length'] = df_test['Password'].apply(lambda x: len(x))\n",
    "df_test['has_lower'] = df_test['Password'].apply(lambda x: any(char.islower() for char in x))\n",
    "df_test['has_digits'] = df_test['Password'].apply(lambda x: any(char.isdigit() for char in x))\n",
    "df_test['has_upper'] = df_test['Password'].apply(lambda x: any(char.isupper() for char in x))\n",
    "df_test['has_special'] = df_test['Password'].apply(lambda x: any(char in set(punctuation) for char in x))\n",
    "df_test['H']= df_test['Password'].apply(H)\n",
    "df_test['isalpha'] = df_test['Password'].str.isalpha()\n",
    "df_test['isdigit'] = df_test['Password'].str.isdigit()\n",
    "df_test['vowel_num'] = df_test['Password'].apply(lambda x: sum(char in 'aeiou' for char in x.lower()))\n",
    "df_test['consonant_num'] = df_test['Password'].apply(lambda x: sum(char in 'bcdfghjklmnpqrstvwdxyz' for char in x.lower()))\n",
    "df_test['digit_num'] = df_test['Password'].apply(lambda x: sum(char in '1234567890' for char in x.lower()))\n",
    "df_test['vowel_percentage'] = df_test['vowel_num'] / df_test['length']\n",
    "df_test['consonant_percentage'] = df_test['consonant_num'] / df_test['length']\n",
    "df_test['letter_percentage'] = (df_test['vowel_num'] + df_test['consonant_num']) / df_test['length']\n",
    "df_test['digit_percentage'] = df_test['digit_num'] / df_test['length']\n",
    "\n",
    "\n"
   ]
  },
  {
   "cell_type": "code",
   "execution_count": 18,
   "metadata": {},
   "outputs": [],
   "source": [
    "X_test = df_test[['length', 'has_lower', 'has_digits', 'has_upper',\n",
    "       'has_special', 'H', 'isalpha', 'isdigit', 'vowel_num', 'consonant_num',\n",
    "       'digit_num', 'vowel_percentage', 'consonant_percentage',\n",
    "       'letter_percentage', 'digit_percentage']]"
   ]
  },
  {
   "cell_type": "code",
   "execution_count": 19,
   "metadata": {
    "scrolled": true
   },
   "outputs": [
    {
     "data": {
      "text/html": [
       "<div>\n",
       "<style scoped>\n",
       "    .dataframe tbody tr th:only-of-type {\n",
       "        vertical-align: middle;\n",
       "    }\n",
       "\n",
       "    .dataframe tbody tr th {\n",
       "        vertical-align: top;\n",
       "    }\n",
       "\n",
       "    .dataframe thead th {\n",
       "        text-align: right;\n",
       "    }\n",
       "</style>\n",
       "<table border=\"1\" class=\"dataframe\">\n",
       "  <thead>\n",
       "    <tr style=\"text-align: right;\">\n",
       "      <th></th>\n",
       "      <th>length</th>\n",
       "      <th>has_lower</th>\n",
       "      <th>has_digits</th>\n",
       "      <th>has_upper</th>\n",
       "      <th>has_special</th>\n",
       "      <th>H</th>\n",
       "      <th>isalpha</th>\n",
       "      <th>isdigit</th>\n",
       "      <th>vowel_num</th>\n",
       "      <th>consonant_num</th>\n",
       "      <th>digit_num</th>\n",
       "      <th>vowel_percentage</th>\n",
       "      <th>consonant_percentage</th>\n",
       "      <th>letter_percentage</th>\n",
       "      <th>digit_percentage</th>\n",
       "    </tr>\n",
       "  </thead>\n",
       "  <tbody>\n",
       "    <tr>\n",
       "      <th>0</th>\n",
       "      <td>10</td>\n",
       "      <td>True</td>\n",
       "      <td>False</td>\n",
       "      <td>True</td>\n",
       "      <td>False</td>\n",
       "      <td>2.921928</td>\n",
       "      <td>True</td>\n",
       "      <td>False</td>\n",
       "      <td>4</td>\n",
       "      <td>6</td>\n",
       "      <td>0</td>\n",
       "      <td>0.400000</td>\n",
       "      <td>0.600000</td>\n",
       "      <td>1.000000</td>\n",
       "      <td>0.000000</td>\n",
       "    </tr>\n",
       "    <tr>\n",
       "      <th>1</th>\n",
       "      <td>9</td>\n",
       "      <td>False</td>\n",
       "      <td>True</td>\n",
       "      <td>False</td>\n",
       "      <td>False</td>\n",
       "      <td>2.419382</td>\n",
       "      <td>False</td>\n",
       "      <td>True</td>\n",
       "      <td>0</td>\n",
       "      <td>0</td>\n",
       "      <td>9</td>\n",
       "      <td>0.000000</td>\n",
       "      <td>0.000000</td>\n",
       "      <td>0.000000</td>\n",
       "      <td>1.000000</td>\n",
       "    </tr>\n",
       "    <tr>\n",
       "      <th>2</th>\n",
       "      <td>10</td>\n",
       "      <td>True</td>\n",
       "      <td>True</td>\n",
       "      <td>False</td>\n",
       "      <td>False</td>\n",
       "      <td>2.121928</td>\n",
       "      <td>False</td>\n",
       "      <td>False</td>\n",
       "      <td>2</td>\n",
       "      <td>0</td>\n",
       "      <td>8</td>\n",
       "      <td>0.200000</td>\n",
       "      <td>0.000000</td>\n",
       "      <td>0.200000</td>\n",
       "      <td>0.800000</td>\n",
       "    </tr>\n",
       "    <tr>\n",
       "      <th>3</th>\n",
       "      <td>6</td>\n",
       "      <td>True</td>\n",
       "      <td>True</td>\n",
       "      <td>False</td>\n",
       "      <td>False</td>\n",
       "      <td>2.584963</td>\n",
       "      <td>False</td>\n",
       "      <td>False</td>\n",
       "      <td>1</td>\n",
       "      <td>3</td>\n",
       "      <td>2</td>\n",
       "      <td>0.166667</td>\n",
       "      <td>0.500000</td>\n",
       "      <td>0.666667</td>\n",
       "      <td>0.333333</td>\n",
       "    </tr>\n",
       "    <tr>\n",
       "      <th>4</th>\n",
       "      <td>7</td>\n",
       "      <td>True</td>\n",
       "      <td>False</td>\n",
       "      <td>False</td>\n",
       "      <td>False</td>\n",
       "      <td>2.807355</td>\n",
       "      <td>True</td>\n",
       "      <td>False</td>\n",
       "      <td>3</td>\n",
       "      <td>4</td>\n",
       "      <td>0</td>\n",
       "      <td>0.428571</td>\n",
       "      <td>0.571429</td>\n",
       "      <td>1.000000</td>\n",
       "      <td>0.000000</td>\n",
       "    </tr>\n",
       "  </tbody>\n",
       "</table>\n",
       "</div>"
      ],
      "text/plain": [
       "   length  has_lower  has_digits  has_upper  has_special         H  isalpha  \\\n",
       "0      10       True       False       True        False  2.921928     True   \n",
       "1       9      False        True      False        False  2.419382    False   \n",
       "2      10       True        True      False        False  2.121928    False   \n",
       "3       6       True        True      False        False  2.584963    False   \n",
       "4       7       True       False      False        False  2.807355     True   \n",
       "\n",
       "   isdigit  vowel_num  consonant_num  digit_num  vowel_percentage  \\\n",
       "0    False          4              6          0          0.400000   \n",
       "1     True          0              0          9          0.000000   \n",
       "2    False          2              0          8          0.200000   \n",
       "3    False          1              3          2          0.166667   \n",
       "4    False          3              4          0          0.428571   \n",
       "\n",
       "   consonant_percentage  letter_percentage  digit_percentage  \n",
       "0              0.600000           1.000000          0.000000  \n",
       "1              0.000000           0.000000          1.000000  \n",
       "2              0.000000           0.200000          0.800000  \n",
       "3              0.500000           0.666667          0.333333  \n",
       "4              0.571429           1.000000          0.000000  "
      ]
     },
     "execution_count": 19,
     "metadata": {},
     "output_type": "execute_result"
    }
   ],
   "source": [
    "X_test.head()"
   ]
  },
  {
   "cell_type": "code",
   "execution_count": 20,
   "metadata": {},
   "outputs": [],
   "source": [
    "X_test = X_test.replace(np.nan, 0)"
   ]
  },
  {
   "cell_type": "code",
   "execution_count": 21,
   "metadata": {},
   "outputs": [],
   "source": [
    "y_pred = rf.predict(X_test) "
   ]
  },
  {
   "cell_type": "code",
   "execution_count": 22,
   "metadata": {},
   "outputs": [],
   "source": [
    "df_res = pd.DataFrame({'Id':df_test['Id'], 'Times':y_pred}, columns=['Id', 'Times'])"
   ]
  },
  {
   "cell_type": "code",
   "execution_count": 24,
   "metadata": {},
   "outputs": [],
   "source": [
    "#df_res['Times'] = np.round(df_res['Times'])"
   ]
  },
  {
   "cell_type": "code",
   "execution_count": 25,
   "metadata": {},
   "outputs": [],
   "source": [
    "df_res.to_csv('rf_more_features_entopy_res.csv',sep=',',index=0)"
   ]
  },
  {
   "cell_type": "code",
   "execution_count": null,
   "metadata": {},
   "outputs": [],
   "source": []
  }
 ],
 "metadata": {
  "kernelspec": {
   "display_name": "Python 3",
   "language": "python",
   "name": "python3"
  },
  "language_info": {
   "codemirror_mode": {
    "name": "ipython",
    "version": 3
   },
   "file_extension": ".py",
   "mimetype": "text/x-python",
   "name": "python",
   "nbconvert_exporter": "python",
   "pygments_lexer": "ipython3",
   "version": "3.6.5"
  }
 },
 "nbformat": 4,
 "nbformat_minor": 2
}
